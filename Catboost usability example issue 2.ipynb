{
 "cells": [
  {
   "cell_type": "markdown",
   "metadata": {},
   "source": [
    "### Problem 2\n",
    "\n",
    "If in CatBoostClassifier `loss_function=MultiClass` and the labels are in range `{0,1}`, then the probabilities of classes are diferent from  `loss_function=Logloss`"
   ]
  },
  {
   "cell_type": "code",
   "execution_count": 1,
   "metadata": {},
   "outputs": [],
   "source": [
    "import numpy as np\n",
    "import pandas as pd\n",
    "from sklearn.datasets import load_iris"
   ]
  },
  {
   "cell_type": "markdown",
   "metadata": {},
   "source": [
    "# Preparing Iris data"
   ]
  },
  {
   "cell_type": "code",
   "execution_count": 2,
   "metadata": {},
   "outputs": [],
   "source": [
    "np.random.seed(0)\n",
    "iris = load_iris()\n",
    "df = pd.DataFrame(iris.data, columns=iris.feature_names)\n",
    "df['species'] = pd.Categorical.from_codes(iris.target, iris.target_names)\n",
    "\n",
    "features = df.columns[:4]\n",
    "\n",
    "df['species'] = pd.factorize(df['species'])[0] # enumerate lables\n",
    "df['is_train'] = np.random.uniform(0, 1, len(df)) <= .75"
   ]
  },
  {
   "cell_type": "code",
   "execution_count": 3,
   "metadata": {},
   "outputs": [],
   "source": [
    "df = df[df['species'] <= 1] # only {0,1} labels"
   ]
  },
  {
   "cell_type": "code",
   "execution_count": 4,
   "metadata": {},
   "outputs": [
    {
     "data": {
      "text/plain": [
       "array([0, 1])"
      ]
     },
     "execution_count": 4,
     "metadata": {},
     "output_type": "execute_result"
    }
   ],
   "source": [
    "df['species'].unique()"
   ]
  },
  {
   "cell_type": "markdown",
   "metadata": {},
   "source": [
    "# This is a binary classification task"
   ]
  },
  {
   "cell_type": "code",
   "execution_count": 5,
   "metadata": {},
   "outputs": [],
   "source": [
    "X_train, X_test = df[df['is_train']==True], df[df['is_train']==False]\n",
    "\n",
    "y_train = X_train['species']\n",
    "y_test = X_test['species']\n",
    "\n",
    "X_train = X_train[features]\n",
    "X_test = X_test[features]"
   ]
  },
  {
   "cell_type": "code",
   "execution_count": 6,
   "metadata": {},
   "outputs": [],
   "source": [
    "from catboost import CatBoostClassifier"
   ]
  },
  {
   "cell_type": "code",
   "execution_count": 7,
   "metadata": {},
   "outputs": [
    {
     "name": "stdout",
     "output_type": "stream",
     "text": [
      "0:\tlearn: -0.6723609\ttotal: 57.1ms\tremaining: 228ms\n",
      "1:\tlearn: -0.6562648\ttotal: 69.9ms\tremaining: 105ms\n",
      "2:\tlearn: -0.6350226\ttotal: 75.9ms\tremaining: 50.6ms\n",
      "3:\tlearn: -0.6177452\ttotal: 82.7ms\tremaining: 20.7ms\n",
      "4:\tlearn: -0.6010231\ttotal: 89.7ms\tremaining: 0us\n"
     ]
    },
    {
     "data": {
      "text/plain": [
       "<catboost.core.CatBoostClassifier at 0x7f0c59f0ee48>"
      ]
     },
     "execution_count": 7,
     "metadata": {},
     "output_type": "execute_result"
    }
   ],
   "source": [
    "cb_clf_multiclass = CatBoostClassifier(loss_function=\"MultiClass\", n_estimators=5)\n",
    "cb_clf_multiclass.fit(X_train, y_train)"
   ]
  },
  {
   "cell_type": "code",
   "execution_count": 8,
   "metadata": {},
   "outputs": [
    {
     "name": "stdout",
     "output_type": "stream",
     "text": [
      "Learning rate set to 0.5\n",
      "0:\tlearn: 0.1619941\ttotal: 67.5ms\tremaining: 270ms\n",
      "1:\tlearn: 0.0671021\ttotal: 104ms\tremaining: 156ms\n",
      "2:\tlearn: 0.0378335\ttotal: 151ms\tremaining: 101ms\n",
      "3:\tlearn: 0.0162693\ttotal: 181ms\tremaining: 45.4ms\n",
      "4:\tlearn: 0.0093864\ttotal: 215ms\tremaining: 0us\n"
     ]
    },
    {
     "data": {
      "text/plain": [
       "<catboost.core.CatBoostClassifier at 0x7f0c59f20860>"
      ]
     },
     "execution_count": 8,
     "metadata": {},
     "output_type": "execute_result"
    }
   ],
   "source": [
    "cb_clf_binary = CatBoostClassifier(loss_function=\"Logloss\", n_estimators=5)\n",
    "cb_clf_binary.fit(X_train, y_train)"
   ]
  },
  {
   "cell_type": "code",
   "execution_count": 9,
   "metadata": {},
   "outputs": [
    {
     "data": {
      "text/plain": [
       "array([[0.99567032, 0.00432968],\n",
       "       [0.99119748, 0.00880252],\n",
       "       [0.99567032, 0.00432968]])"
      ]
     },
     "execution_count": 9,
     "metadata": {},
     "output_type": "execute_result"
    }
   ],
   "source": [
    "cb_clf_binary.predict_proba(X_test)[:3]"
   ]
  },
  {
   "cell_type": "code",
   "execution_count": 10,
   "metadata": {},
   "outputs": [
    {
     "data": {
      "text/plain": [
       "array([[0.55703732, 0.44296268],\n",
       "       [0.55278628, 0.44721372],\n",
       "       [0.55703732, 0.44296268]])"
      ]
     },
     "execution_count": 10,
     "metadata": {},
     "output_type": "execute_result"
    }
   ],
   "source": [
    "cb_clf_multiclass.predict_proba(X_test)[:3]"
   ]
  },
  {
   "cell_type": "markdown",
   "metadata": {},
   "source": [
    "We see that the probabilities are different.\n",
    "\n",
    "**Possible solution:** check the number of unique values in the `target` vector. If the there are only two unique values, then automatically switch `loss_function` to `Logloss` or print warning to to user that \"your labels are in range `{0,1}`, maybe you should set `loss_function=Logloss`\""
   ]
  }
 ],
 "metadata": {
  "kernelspec": {
   "display_name": "Python 3",
   "language": "python",
   "name": "python3"
  },
  "language_info": {
   "codemirror_mode": {
    "name": "ipython",
    "version": 3
   },
   "file_extension": ".py",
   "mimetype": "text/x-python",
   "name": "python",
   "nbconvert_exporter": "python",
   "pygments_lexer": "ipython3",
   "version": "3.6.7"
  }
 },
 "nbformat": 4,
 "nbformat_minor": 2
}
